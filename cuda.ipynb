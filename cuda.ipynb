{
 "cells": [
  {
   "cell_type": "raw",
   "metadata": {},
   "source": [
    "######################################################################\n",
    "# This material is prepared for a training workshop that is conducted \n",
    "# based on job executions on Gadi, a cluster hosted at NCI, Australia. \n",
    "# Refactoring is most likely needed before running on a different \n",
    "# machine.\n",
    "#\n",
    "# Stephen Sanderson 2023\n",
    "######################################################################"
   ]
  },
  {
   "cell_type": "markdown",
   "metadata": {},
   "source": [
    "# Introduction to CUDA C"
   ]
  },
  {
   "cell_type": "code",
   "execution_count": null,
   "metadata": {},
   "outputs": [],
   "source": [
    "import os\n",
    "# the jupyter notebook is launched from your $HOME, change the working directory provided a username directory is created under /scratch/vp91\n",
    "os.chdir(os.path.expandvars(\"/scratch/vp91/$USER/introduction-to-cuda/exercises\"))"
   ]
  },
  {
   "cell_type": "markdown",
   "metadata": {
    "tags": []
   },
   "source": [
    "## 0. Hello, world!\n",
    "Our first example ([hello_world.cu](./exercises/hello_world.cu)), printing \"Hello, world!\" 64 times to the console in parallel.\n",
    "\n",
    "Run the next cell to compile the program, and the one after that to run it."
   ]
  },
  {
   "cell_type": "code",
   "execution_count": null,
   "metadata": {},
   "outputs": [],
   "source": [
    "!nvcc hello_world.cu -o hello_world"
   ]
  },
  {
   "cell_type": "code",
   "execution_count": null,
   "metadata": {},
   "outputs": [],
   "source": [
    "!./hello_world"
   ]
  },
  {
   "cell_type": "markdown",
   "metadata": {
    "tags": []
   },
   "source": [
    "## 1. AXPY\n",
    "\n",
    "The goal is to write a cuda kernel function in [axpy.cu](./exercises/axpy.cu) called `axpy` takes `a`, `X`, `Y`, and `Z` as input variables, and stores `a * X + Y` in `Z`, where `X`, `Y`, and `Z` are all arrays of equal length and `a` is a scalar.\n",
    "\n",
    "Run the cell below to compile and test your code."
   ]
  },
  {
   "cell_type": "code",
   "execution_count": null,
   "metadata": {},
   "outputs": [],
   "source": [
    "!nvcc axpy.cu -o axpy && ./axpy"
   ]
  },
  {
   "cell_type": "markdown",
   "metadata": {},
   "source": [
    "## 2. Overlapping memory transfer and compute\n",
    "\n",
    "Modify the `test_axpy()` function in [axpy_overlapped.cu](./exercises/axpy_overlapped.cu) to overlap memory transfer and calculations using streams.\n",
    "\n",
    "Compare the execution time of your code and the non-overlapped version using the commands below:\n",
    "\n",
    "**Non-Overlapped:**"
   ]
  },
  {
   "cell_type": "code",
   "execution_count": null,
   "metadata": {},
   "outputs": [],
   "source": [
    "!nvcc axpy_non_overlapped.cu -o axpy_non_overlapped && ./axpy_non_overlapped"
   ]
  },
  {
   "cell_type": "markdown",
   "metadata": {},
   "source": [
    "**Overlapped:**"
   ]
  },
  {
   "cell_type": "code",
   "execution_count": null,
   "metadata": {},
   "outputs": [],
   "source": [
    "!nvcc axpy_overlapped.cu -o axpy_overlapped && ./axpy_overlapped"
   ]
  },
  {
   "cell_type": "markdown",
   "metadata": {},
   "source": [
    "## 3. Modular code\n",
    "\n",
    "Use the cell below to create a new folder called `axpy_modular` and change into it. Split your original [axpy.cu](./exercises/axpy.cu) code (or the code in [solutions/axpy.cu](./exercises/solutions/axpy.cu)) into a `main.c` file compiled with `gcc`, an `axpy.cu` file compiled with `nvcc`, and an `axpy.h` file to allow `main.c` to access the AXPY code. For completeness, you could also create an `axpy.cuh` file that's included by `axpy.cu` to forward-declare the kernel (this would be useful in a larger project if multiple files needed to access the kernel function).\n",
    "\n",
    "The `axpy.cu` file should contain the CUDA kernel and a C function that calls it.\n",
    "`main.c` should then call that C function. Try having the implementation of the `test_axpy()` function in `main.c` - calls to CUDA library functions are valid from regular C code."
   ]
  },
  {
   "cell_type": "code",
   "execution_count": null,
   "metadata": {},
   "outputs": [],
   "source": [
    "# Create the axpy directory and change into it\n",
    "import os\n",
    "axpy_dir = os.path.expandvars(\"/scratch/vp91/$USER/introduction-to-cuda/exercises/axpy_modular\")\n",
    "try:\n",
    "    os.mkdir(axpy_dir)\n",
    "except FileExistsError:\n",
    "    pass\n",
    "os.chdir(axpy_dir)"
   ]
  },
  {
   "cell_type": "code",
   "execution_count": null,
   "metadata": {},
   "outputs": [],
   "source": [
    "nvcc # TODO: compile axpy.cu into a static object"
   ]
  },
  {
   "cell_type": "code",
   "execution_count": null,
   "metadata": {},
   "outputs": [],
   "source": [
    "gcc # TODO: compile main.c with axpy.o"
   ]
  }
 ],
 "metadata": {
  "interpreter": {
   "hash": "767d51c1340bd893661ea55ea3124f6de3c7a262a8b4abca0554b478b1e2ff90"
  },
  "kernelspec": {
   "display_name": "Python 3 (ipykernel)",
   "language": "python",
   "name": "python3"
  },
  "language_info": {
   "codemirror_mode": {
    "name": "ipython",
    "version": 3
   },
   "file_extension": ".py",
   "mimetype": "text/x-python",
   "name": "python",
   "nbconvert_exporter": "python",
   "pygments_lexer": "ipython3",
   "version": "3.10.9"
  }
 },
 "nbformat": 4,
 "nbformat_minor": 4
}
